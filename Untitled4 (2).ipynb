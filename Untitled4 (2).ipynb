{
  "nbformat": 4,
  "nbformat_minor": 0,
  "metadata": {
    "colab": {
      "provenance": []
    },
    "kernelspec": {
      "name": "python3",
      "display_name": "Python 3"
    },
    "language_info": {
      "name": "python"
    }
  },
  "cells": [
    {
      "cell_type": "code",
      "source": [
        "import kagglehub\n",
        "\n",
        "# Download latest version\n",
        "path = kagglehub.dataset_download(\"johnsmith88/heart-disease-dataset\")\n",
        "\n",
        "print(\"Path to dataset files:\", path)"
      ],
      "metadata": {
        "colab": {
          "base_uri": "https://localhost:8080/"
        },
        "id": "-2auy6JKbLSZ",
        "outputId": "263e1b07-62c6-4974-dc50-38b1b72e6835"
      },
      "execution_count": 3,
      "outputs": [
        {
          "output_type": "stream",
          "name": "stdout",
          "text": [
            "Path to dataset files: /kaggle/input/heart-disease-dataset\n"
          ]
        }
      ]
    },
    {
      "cell_type": "code",
      "source": [
        "import pandas as pd\n",
        "import kagglehub\n",
        "import os # Import the os module\n",
        "\n",
        "# Download latest version\n",
        "# This downloads the dataset to a specific path and stores it in the 'path' variable\n",
        "path = kagglehub.dataset_download(\"johnsmith88/heart-disease-dataset\")\n",
        "\n",
        "print(\"Path to dataset files:\", path)\n",
        "\n",
        "# Construct the full path to the heart.csv file within the downloaded directory\n",
        "# Assumes the heart.csv file is directly inside the downloaded folder.\n",
        "# If it's in a subdirectory, adjust the path accordingly.\n",
        "csv_file_path = os.path.join(path, 'heart.csv')\n",
        "\n",
        "# Load the dataset using the correct path\n",
        "data = pd.read_csv(csv_file_path)\n",
        "X = data.drop('target', axis=1)  # Features\n",
        "y = data['target']               # Target variable\n",
        "\n",
        "print(\"Dataset loaded successfully.\")"
      ],
      "metadata": {
        "colab": {
          "base_uri": "https://localhost:8080/"
        },
        "id": "wkkEu9r5cAHo",
        "outputId": "80c304a8-d42f-4403-85cc-1205e109fb7e"
      },
      "execution_count": 5,
      "outputs": [
        {
          "output_type": "stream",
          "name": "stdout",
          "text": [
            "Path to dataset files: /kaggle/input/heart-disease-dataset\n",
            "Dataset loaded successfully.\n"
          ]
        }
      ]
    },
    {
      "cell_type": "code",
      "source": [
        "from sklearn.tree import DecisionTreeClassifier, export_graphviz\n",
        "import graphviz\n",
        "\n",
        "# Train the decision tree\n",
        "clf = DecisionTreeClassifier(random_state=42)\n",
        "clf.fit(X, y)\n",
        "\n",
        "# Export to DOT format\n",
        "dot_data = export_graphviz(clf, out_file=None,\n",
        "                           feature_names=X.columns,\n",
        "                           class_names=['No Disease', 'Disease'],\n",
        "                           filled=True, rounded=True)\n",
        "\n",
        "# Visualize with Graphviz\n",
        "graph = graphviz.Source(dot_data)\n",
        "graph.render(\"decision_tree\", view=True)  # Saves as 'decision_tree.pdf'"
      ],
      "metadata": {
        "colab": {
          "base_uri": "https://localhost:8080/",
          "height": 36
        },
        "id": "cn987BpHcPrq",
        "outputId": "c26a9694-90fa-4ec2-975a-eb6f0ef1ca07"
      },
      "execution_count": 6,
      "outputs": [
        {
          "output_type": "execute_result",
          "data": {
            "text/plain": [
              "'decision_tree.pdf'"
            ],
            "application/vnd.google.colaboratory.intrinsic+json": {
              "type": "string"
            }
          },
          "metadata": {},
          "execution_count": 6
        }
      ]
    },
    {
      "cell_type": "code",
      "source": [
        "# Train a pruned decision tree\n",
        "clf_pruned = DecisionTreeClassifier(max_depth=3, random_state=42)\n",
        "clf_pruned.fit(X, y)\n",
        "\n",
        "# Visualize the pruned tree\n",
        "dot_data_pruned = export_graphviz(clf_pruned, out_file=None,\n",
        "                                  feature_names=X.columns,\n",
        "                                  class_names=['No Disease', 'Disease'],\n",
        "                                  filled=True, rounded=True)\n",
        "graph_pruned = graphviz.Source(dot_data_pruned)\n",
        "graph_pruned.render(\"pruned_decision_tree\", view=True)"
      ],
      "metadata": {
        "colab": {
          "base_uri": "https://localhost:8080/",
          "height": 36
        },
        "id": "hZAPXefYcUng",
        "outputId": "f1e17a45-c2cf-4b6a-cb41-bfa605aa9a46"
      },
      "execution_count": 7,
      "outputs": [
        {
          "output_type": "execute_result",
          "data": {
            "text/plain": [
              "'pruned_decision_tree.pdf'"
            ],
            "application/vnd.google.colaboratory.intrinsic+json": {
              "type": "string"
            }
          },
          "metadata": {},
          "execution_count": 7
        }
      ]
    },
    {
      "cell_type": "code",
      "source": [
        "from sklearn.ensemble import RandomForestClassifier\n",
        "from sklearn.model_selection import train_test_split\n",
        "from sklearn.metrics import accuracy_score\n",
        "\n",
        "# Split the data\n",
        "X_train, X_test, y_train, y_test = train_test_split(X, y, test_size=0.2, random_state=42)\n",
        "\n",
        "# Train both models\n",
        "clf.fit(X_train, y_train)  # Unpruned decision tree\n",
        "rf = RandomForestClassifier(n_estimators=100, random_state=42)\n",
        "rf.fit(X_train, y_train)\n",
        "\n",
        "# Predict and evaluate\n",
        "y_pred_tree = clf.predict(X_test)\n",
        "y_pred_rf = rf.predict(X_test)\n",
        "print(f\"Decision Tree Accuracy: {accuracy_score(y_test, y_pred_tree):.2f}\")\n",
        "print(f\"Random Forest Accuracy: {accuracy_score(y_test, y_pred_rf):.2f}\")"
      ],
      "metadata": {
        "colab": {
          "base_uri": "https://localhost:8080/"
        },
        "id": "N4RzvIH8ccZu",
        "outputId": "80163262-121b-4a0a-d5b1-c1c9ae5b229a"
      },
      "execution_count": 8,
      "outputs": [
        {
          "output_type": "stream",
          "name": "stdout",
          "text": [
            "Decision Tree Accuracy: 0.99\n",
            "Random Forest Accuracy: 0.99\n"
          ]
        }
      ]
    },
    {
      "cell_type": "code",
      "source": [
        "# Random forest feature importances\n",
        "importances = rf.feature_importances_\n",
        "feature_names = X.columns\n",
        "for name, importance in sorted(zip(feature_names, importances), key=lambda x: x[1], reverse=True):\n",
        "    print(f\"{name}: {importance:.3f}\")"
      ],
      "metadata": {
        "colab": {
          "base_uri": "https://localhost:8080/"
        },
        "id": "BUwFG7jYck0_",
        "outputId": "167ff10d-a333-4dcd-9998-b78fda950a0a"
      },
      "execution_count": 9,
      "outputs": [
        {
          "output_type": "stream",
          "name": "stdout",
          "text": [
            "cp: 0.135\n",
            "ca: 0.127\n",
            "thalach: 0.122\n",
            "oldpeak: 0.122\n",
            "thal: 0.111\n",
            "age: 0.078\n",
            "chol: 0.075\n",
            "trestbps: 0.071\n",
            "exang: 0.058\n",
            "slope: 0.046\n",
            "sex: 0.029\n",
            "restecg: 0.019\n",
            "fbs: 0.008\n"
          ]
        }
      ]
    },
    {
      "cell_type": "code",
      "source": [
        "from sklearn.model_selection import cross_val_score\n",
        "\n",
        "# Decision tree cross-validation\n",
        "tree_scores = cross_val_score(clf, X, y, cv=5, scoring='accuracy')\n",
        "print(f\"Decision Tree CV Accuracy: {tree_scores.mean():.2f} ± {tree_scores.std():.2f}\")\n",
        "\n",
        "# Random forest cross-validation\n",
        "rf_scores = cross_val_score(rf, X, y, cv=5, scoring='accuracy')\n",
        "print(f\"Random Forest CV Accuracy: {rf_scores.mean():.2f} ± {rf_scores.std():.2f}\")"
      ],
      "metadata": {
        "colab": {
          "base_uri": "https://localhost:8080/"
        },
        "id": "udFSM6SRcoN3",
        "outputId": "05ccbbc6-62bc-4b2b-f923-45c9aee34abf"
      },
      "execution_count": 10,
      "outputs": [
        {
          "output_type": "stream",
          "name": "stdout",
          "text": [
            "Decision Tree CV Accuracy: 1.00 ± 0.00\n",
            "Random Forest CV Accuracy: 1.00 ± 0.01\n"
          ]
        }
      ]
    }
  ]
}